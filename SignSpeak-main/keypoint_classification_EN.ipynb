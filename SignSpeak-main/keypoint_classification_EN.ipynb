{
 "cells": [
  {
   "cell_type": "code",
   "execution_count": 1,
   "metadata": {
    "id": "igMyGnjE9hEp"
   },
   "outputs": [],
   "source": [
    "import csv\n",
    "\n",
    "import numpy as np\n",
    "import tensorflow as tf\n",
    "from sklearn.model_selection import train_test_split\n",
    "\n",
    "RANDOM_SEED = 42"
   ]
  },
  {
   "cell_type": "markdown",
   "metadata": {
    "id": "t2HDvhIu9hEr"
   },
   "source": [
    "# Specify each path"
   ]
  },
  {
   "cell_type": "code",
   "execution_count": 2,
   "metadata": {
    "id": "9NvZP2Zn9hEy"
   },
   "outputs": [],
   "source": [
    "dataset = 'model/keypoint_classifier/keypoint.csv'\n",
    "model_save_path = 'model/keypoint_classifier/keypoint_classifier.hdf5'\n",
    "tflite_save_path = 'model/keypoint_classifier/keypoint_classifier.tflite'"
   ]
  },
  {
   "cell_type": "markdown",
   "metadata": {
    "id": "s5oMH7x19hEz"
   },
   "source": [
    "# Set number of classes"
   ]
  },
  {
   "cell_type": "code",
   "execution_count": 3,
   "metadata": {
    "id": "du4kodXL9hEz"
   },
   "outputs": [],
   "source": [
    "NUM_CLASSES = 10"
   ]
  },
  {
   "cell_type": "markdown",
   "metadata": {
    "id": "XjnL0uso9hEz"
   },
   "source": [
    "# Dataset reading"
   ]
  },
  {
   "cell_type": "code",
   "execution_count": 4,
   "metadata": {
    "id": "QT5ZqtEz9hE0"
   },
   "outputs": [],
   "source": [
    "X_dataset = np.loadtxt(dataset, delimiter=',', dtype='float32', usecols=list(range(1, (21 * 2) + 1)))"
   ]
  },
  {
   "cell_type": "code",
   "execution_count": 5,
   "metadata": {
    "id": "QmoKFsp49hE0"
   },
   "outputs": [],
   "source": [
    "y_dataset = np.loadtxt(dataset, delimiter=',', dtype='int32', usecols=(0))"
   ]
  },
  {
   "cell_type": "code",
   "execution_count": 6,
   "metadata": {
    "id": "xQU7JTZ_9hE0"
   },
   "outputs": [],
   "source": [
    "X_train, X_test, y_train, y_test = train_test_split(X_dataset, y_dataset, train_size=0.75, random_state=RANDOM_SEED)"
   ]
  },
  {
   "cell_type": "markdown",
   "metadata": {
    "id": "mxK_lETT9hE0"
   },
   "source": [
    "# Model building"
   ]
  },
  {
   "cell_type": "code",
   "execution_count": 7,
   "metadata": {
    "id": "vHBmUf1t9hE1"
   },
   "outputs": [],
   "source": [
    "model = tf.keras.models.Sequential([\n",
    "    tf.keras.layers.Input((21 * 2, )),\n",
    "    tf.keras.layers.Dropout(0.2),\n",
    "    tf.keras.layers.Dense(20, activation='relu'),\n",
    "    tf.keras.layers.Dropout(0.4),\n",
    "    tf.keras.layers.Dense(10, activation='relu'),\n",
    "    tf.keras.layers.Dense(NUM_CLASSES, activation='softmax')\n",
    "])"
   ]
  },
  {
   "cell_type": "code",
   "execution_count": 8,
   "metadata": {
    "colab": {
     "base_uri": "https://localhost:8080/"
    },
    "id": "ypqky9tc9hE1",
    "outputId": "5db082bb-30e3-4110-bf63-a1ee777ecd46"
   },
   "outputs": [
    {
     "name": "stdout",
     "output_type": "stream",
     "text": [
      "Model: \"sequential\"\n",
      "_________________________________________________________________\n",
      " Layer (type)                Output Shape              Param #   \n",
      "=================================================================\n",
      " dropout (Dropout)           (None, 42)                0         \n",
      "                                                                 \n",
      " dense (Dense)               (None, 20)                860       \n",
      "                                                                 \n",
      " dropout_1 (Dropout)         (None, 20)                0         \n",
      "                                                                 \n",
      " dense_1 (Dense)             (None, 10)                210       \n",
      "                                                                 \n",
      " dense_2 (Dense)             (None, 10)                110       \n",
      "                                                                 \n",
      "=================================================================\n",
      "Total params: 1180 (4.61 KB)\n",
      "Trainable params: 1180 (4.61 KB)\n",
      "Non-trainable params: 0 (0.00 Byte)\n",
      "_________________________________________________________________\n"
     ]
    }
   ],
   "source": [
    "model.summary()  # tf.keras.utils.plot_model(model, show_shapes=True)"
   ]
  },
  {
   "cell_type": "code",
   "execution_count": 9,
   "metadata": {
    "id": "MbMjOflQ9hE1"
   },
   "outputs": [],
   "source": [
    "# Model checkpoint callback\n",
    "cp_callback = tf.keras.callbacks.ModelCheckpoint(\n",
    "    model_save_path, verbose=1, save_weights_only=False)\n",
    "# Callback for early stopping\n",
    "es_callback = tf.keras.callbacks.EarlyStopping(patience=20, verbose=1)"
   ]
  },
  {
   "cell_type": "code",
   "execution_count": 10,
   "metadata": {
    "id": "c3Dac0M_9hE2"
   },
   "outputs": [],
   "source": [
    "# Model compilation\n",
    "model.compile(\n",
    "    optimizer='adam',\n",
    "    loss='sparse_categorical_crossentropy',\n",
    "    metrics=['accuracy']\n",
    ")"
   ]
  },
  {
   "cell_type": "markdown",
   "metadata": {
    "id": "7XI0j1Iu9hE2"
   },
   "source": [
    "# Model training"
   ]
  },
  {
   "cell_type": "code",
   "execution_count": 11,
   "metadata": {
    "colab": {
     "base_uri": "https://localhost:8080/"
    },
    "id": "WirBl-JE9hE3",
    "outputId": "71b30ca2-8294-4d9d-8aa2-800d90d399de",
    "scrolled": true
   },
   "outputs": [
    {
     "name": "stdout",
     "output_type": "stream",
     "text": [
      "Epoch 1/1000\n",
      "17/18 [===========================>..] - ETA: 0s - loss: 1.9952 - accuracy: 0.2918\n",
      "Epoch 1: saving model to model/keypoint_classifier\\keypoint_classifier.hdf5\n",
      "18/18 [==============================] - 3s 38ms/step - loss: 1.9870 - accuracy: 0.2916 - val_loss: 1.7996 - val_accuracy: 0.3716\n",
      "Epoch 2/1000\n",
      " 9/18 [==============>...............] - ETA: 0s - loss: 1.8095 - accuracy: 0.3325"
     ]
    },
    {
     "name": "stderr",
     "output_type": "stream",
     "text": [
      "C:\\Users\\Hamza\\AppData\\Local\\Programs\\Python\\Python311\\Lib\\site-packages\\keras\\src\\engine\\training.py:3079: UserWarning: You are saving your model as an HDF5 file via `model.save()`. This file format is considered legacy. We recommend using instead the native Keras format, e.g. `model.save('my_model.keras')`.\n",
      "  saving_api.save_model(\n"
     ]
    },
    {
     "name": "stdout",
     "output_type": "stream",
     "text": [
      "\n",
      "Epoch 2: saving model to model/keypoint_classifier\\keypoint_classifier.hdf5\n",
      "18/18 [==============================] - 0s 12ms/step - loss: 1.7439 - accuracy: 0.3451 - val_loss: 1.4936 - val_accuracy: 0.4107\n",
      "Epoch 3/1000\n",
      "14/18 [======================>.......] - ETA: 0s - loss: 1.5298 - accuracy: 0.4057\n",
      "Epoch 3: saving model to model/keypoint_classifier\\keypoint_classifier.hdf5\n",
      "18/18 [==============================] - 0s 9ms/step - loss: 1.5199 - accuracy: 0.4012 - val_loss: 1.2843 - val_accuracy: 0.5645\n",
      "Epoch 4/1000\n",
      "17/18 [===========================>..] - ETA: 0s - loss: 1.3692 - accuracy: 0.4540\n",
      "Epoch 4: saving model to model/keypoint_classifier\\keypoint_classifier.hdf5\n",
      "18/18 [==============================] - 0s 8ms/step - loss: 1.3691 - accuracy: 0.4578 - val_loss: 1.1595 - val_accuracy: 0.5828\n",
      "Epoch 5/1000\n",
      " 1/18 [>.............................] - ETA: 0s - loss: 1.3457 - accuracy: 0.4531\n",
      "Epoch 5: saving model to model/keypoint_classifier\\keypoint_classifier.hdf5\n",
      "18/18 [==============================] - 0s 7ms/step - loss: 1.2828 - accuracy: 0.4991 - val_loss: 1.0786 - val_accuracy: 0.6584\n",
      "Epoch 6/1000\n",
      " 1/18 [>.............................] - ETA: 0s - loss: 1.1831 - accuracy: 0.5859\n",
      "Epoch 6: saving model to model/keypoint_classifier\\keypoint_classifier.hdf5\n",
      "18/18 [==============================] - 0s 7ms/step - loss: 1.2056 - accuracy: 0.5305 - val_loss: 1.0182 - val_accuracy: 0.6897\n",
      "Epoch 7/1000\n",
      "18/18 [==============================] - ETA: 0s - loss: 1.1476 - accuracy: 0.5605\n",
      "Epoch 7: saving model to model/keypoint_classifier\\keypoint_classifier.hdf5\n",
      "18/18 [==============================] - 0s 7ms/step - loss: 1.1476 - accuracy: 0.5605 - val_loss: 0.9662 - val_accuracy: 0.6910\n",
      "Epoch 8/1000\n",
      " 1/18 [>.............................] - ETA: 0s - loss: 1.2085 - accuracy: 0.5312\n",
      "Epoch 8: saving model to model/keypoint_classifier\\keypoint_classifier.hdf5\n",
      "18/18 [==============================] - 0s 7ms/step - loss: 1.1069 - accuracy: 0.5901 - val_loss: 0.9111 - val_accuracy: 0.6897\n",
      "Epoch 9/1000\n",
      " 1/18 [>.............................] - ETA: 0s - loss: 1.0478 - accuracy: 0.5469\n",
      "Epoch 9: saving model to model/keypoint_classifier\\keypoint_classifier.hdf5\n",
      "18/18 [==============================] - 0s 7ms/step - loss: 1.0574 - accuracy: 0.6005 - val_loss: 0.8644 - val_accuracy: 0.6988\n",
      "Epoch 10/1000\n",
      " 1/18 [>.............................] - ETA: 0s - loss: 1.0161 - accuracy: 0.5547\n",
      "Epoch 10: saving model to model/keypoint_classifier\\keypoint_classifier.hdf5\n",
      "18/18 [==============================] - 0s 7ms/step - loss: 1.0171 - accuracy: 0.6040 - val_loss: 0.8201 - val_accuracy: 0.7001\n",
      "Epoch 11/1000\n",
      " 1/18 [>.............................] - ETA: 0s - loss: 0.8691 - accuracy: 0.6797\n",
      "Epoch 11: saving model to model/keypoint_classifier\\keypoint_classifier.hdf5\n",
      "18/18 [==============================] - 0s 7ms/step - loss: 0.9852 - accuracy: 0.6258 - val_loss: 0.7764 - val_accuracy: 0.7001\n",
      "Epoch 12/1000\n",
      " 1/18 [>.............................] - ETA: 0s - loss: 0.9167 - accuracy: 0.6484\n",
      "Epoch 12: saving model to model/keypoint_classifier\\keypoint_classifier.hdf5\n",
      "18/18 [==============================] - 0s 7ms/step - loss: 0.9324 - accuracy: 0.6480 - val_loss: 0.7376 - val_accuracy: 0.7014\n",
      "Epoch 13/1000\n",
      " 1/18 [>.............................] - ETA: 0s - loss: 0.9673 - accuracy: 0.5859\n",
      "Epoch 13: saving model to model/keypoint_classifier\\keypoint_classifier.hdf5\n",
      "18/18 [==============================] - 0s 7ms/step - loss: 0.9020 - accuracy: 0.6562 - val_loss: 0.6969 - val_accuracy: 0.7223\n",
      "Epoch 14/1000\n",
      " 1/18 [>.............................] - ETA: 0s - loss: 0.9709 - accuracy: 0.6250\n",
      "Epoch 14: saving model to model/keypoint_classifier\\keypoint_classifier.hdf5\n",
      "18/18 [==============================] - 0s 7ms/step - loss: 0.8757 - accuracy: 0.6645 - val_loss: 0.6625 - val_accuracy: 0.7445\n",
      "Epoch 15/1000\n",
      " 1/18 [>.............................] - ETA: 0s - loss: 0.9916 - accuracy: 0.6406\n",
      "Epoch 15: saving model to model/keypoint_classifier\\keypoint_classifier.hdf5\n",
      "18/18 [==============================] - 0s 7ms/step - loss: 0.8434 - accuracy: 0.6867 - val_loss: 0.6351 - val_accuracy: 0.7327\n",
      "Epoch 16/1000\n",
      " 1/18 [>.............................] - ETA: 0s - loss: 0.7788 - accuracy: 0.7031\n",
      "Epoch 16: saving model to model/keypoint_classifier\\keypoint_classifier.hdf5\n",
      "18/18 [==============================] - 0s 7ms/step - loss: 0.8347 - accuracy: 0.6789 - val_loss: 0.6090 - val_accuracy: 0.7327\n",
      "Epoch 17/1000\n",
      " 1/18 [>.............................] - ETA: 0s - loss: 0.8705 - accuracy: 0.6641\n",
      "Epoch 17: saving model to model/keypoint_classifier\\keypoint_classifier.hdf5\n",
      "18/18 [==============================] - 0s 7ms/step - loss: 0.8042 - accuracy: 0.6976 - val_loss: 0.5853 - val_accuracy: 0.7653\n",
      "Epoch 18/1000\n",
      " 1/18 [>.............................] - ETA: 0s - loss: 0.8353 - accuracy: 0.6562\n",
      "Epoch 18: saving model to model/keypoint_classifier\\keypoint_classifier.hdf5\n",
      "18/18 [==============================] - 0s 7ms/step - loss: 0.7964 - accuracy: 0.6836 - val_loss: 0.5562 - val_accuracy: 0.7927\n",
      "Epoch 19/1000\n",
      " 1/18 [>.............................] - ETA: 0s - loss: 0.8768 - accuracy: 0.6797\n",
      "Epoch 19: saving model to model/keypoint_classifier\\keypoint_classifier.hdf5\n",
      "18/18 [==============================] - 0s 7ms/step - loss: 0.7619 - accuracy: 0.6989 - val_loss: 0.5362 - val_accuracy: 0.7692\n",
      "Epoch 20/1000\n",
      "18/18 [==============================] - ETA: 0s - loss: 0.7424 - accuracy: 0.7106\n",
      "Epoch 20: saving model to model/keypoint_classifier\\keypoint_classifier.hdf5\n",
      "18/18 [==============================] - 0s 8ms/step - loss: 0.7424 - accuracy: 0.7106 - val_loss: 0.5125 - val_accuracy: 0.8266\n",
      "Epoch 21/1000\n",
      "15/18 [========================>.....] - ETA: 0s - loss: 0.7166 - accuracy: 0.7266\n",
      "Epoch 21: saving model to model/keypoint_classifier\\keypoint_classifier.hdf5\n",
      "18/18 [==============================] - 0s 8ms/step - loss: 0.7230 - accuracy: 0.7237 - val_loss: 0.4948 - val_accuracy: 0.8370\n",
      "Epoch 22/1000\n",
      " 1/18 [>.............................] - ETA: 0s - loss: 0.7019 - accuracy: 0.7188\n",
      "Epoch 22: saving model to model/keypoint_classifier\\keypoint_classifier.hdf5\n",
      "18/18 [==============================] - 0s 7ms/step - loss: 0.6990 - accuracy: 0.7232 - val_loss: 0.4755 - val_accuracy: 0.8540\n",
      "Epoch 23/1000\n",
      "17/18 [===========================>..] - ETA: 0s - loss: 0.6851 - accuracy: 0.7279\n",
      "Epoch 23: saving model to model/keypoint_classifier\\keypoint_classifier.hdf5\n",
      "18/18 [==============================] - 0s 7ms/step - loss: 0.6834 - accuracy: 0.7263 - val_loss: 0.4643 - val_accuracy: 0.8136\n",
      "Epoch 24/1000\n",
      "18/18 [==============================] - ETA: 0s - loss: 0.6624 - accuracy: 0.7393\n",
      "Epoch 24: saving model to model/keypoint_classifier\\keypoint_classifier.hdf5\n",
      "18/18 [==============================] - 0s 7ms/step - loss: 0.6624 - accuracy: 0.7393 - val_loss: 0.4468 - val_accuracy: 0.8657\n",
      "Epoch 25/1000\n",
      " 1/18 [>.............................] - ETA: 0s - loss: 0.7407 - accuracy: 0.6562\n",
      "Epoch 25: saving model to model/keypoint_classifier\\keypoint_classifier.hdf5\n",
      "18/18 [==============================] - 0s 7ms/step - loss: 0.6605 - accuracy: 0.7354 - val_loss: 0.4378 - val_accuracy: 0.8227\n",
      "Epoch 26/1000\n",
      "18/18 [==============================] - ETA: 0s - loss: 0.6423 - accuracy: 0.7350\n",
      "Epoch 26: saving model to model/keypoint_classifier\\keypoint_classifier.hdf5\n",
      "18/18 [==============================] - 0s 7ms/step - loss: 0.6423 - accuracy: 0.7350 - val_loss: 0.4250 - val_accuracy: 0.8657\n",
      "Epoch 27/1000\n",
      "17/18 [===========================>..] - ETA: 0s - loss: 0.6358 - accuracy: 0.7390\n",
      "Epoch 27: saving model to model/keypoint_classifier\\keypoint_classifier.hdf5\n",
      "18/18 [==============================] - 0s 8ms/step - loss: 0.6313 - accuracy: 0.7402 - val_loss: 0.4126 - val_accuracy: 0.8853\n",
      "Epoch 28/1000\n",
      " 1/18 [>.............................] - ETA: 0s - loss: 0.6167 - accuracy: 0.7109\n",
      "Epoch 28: saving model to model/keypoint_classifier\\keypoint_classifier.hdf5\n",
      "18/18 [==============================] - 0s 7ms/step - loss: 0.6060 - accuracy: 0.7502 - val_loss: 0.3988 - val_accuracy: 0.8840\n",
      "Epoch 29/1000\n",
      "18/18 [==============================] - ETA: 0s - loss: 0.5730 - accuracy: 0.7676\n",
      "Epoch 29: saving model to model/keypoint_classifier\\keypoint_classifier.hdf5\n",
      "18/18 [==============================] - 0s 11ms/step - loss: 0.5730 - accuracy: 0.7676 - val_loss: 0.3855 - val_accuracy: 0.9048\n",
      "Epoch 30/1000\n",
      "17/18 [===========================>..] - ETA: 0s - loss: 0.5859 - accuracy: 0.7684\n",
      "Epoch 30: saving model to model/keypoint_classifier\\keypoint_classifier.hdf5\n",
      "18/18 [==============================] - 0s 7ms/step - loss: 0.5832 - accuracy: 0.7685 - val_loss: 0.3774 - val_accuracy: 0.9179\n",
      "Epoch 31/1000\n",
      " 1/18 [>.............................] - ETA: 0s - loss: 0.6528 - accuracy: 0.7109\n",
      "Epoch 31: saving model to model/keypoint_classifier\\keypoint_classifier.hdf5\n",
      "18/18 [==============================] - 0s 7ms/step - loss: 0.5746 - accuracy: 0.7607 - val_loss: 0.3688 - val_accuracy: 0.9205\n",
      "Epoch 32/1000\n",
      " 1/18 [>.............................] - ETA: 0s - loss: 0.5094 - accuracy: 0.8047\n",
      "Epoch 32: saving model to model/keypoint_classifier\\keypoint_classifier.hdf5\n",
      "18/18 [==============================] - 0s 7ms/step - loss: 0.5565 - accuracy: 0.7859 - val_loss: 0.3580 - val_accuracy: 0.9505\n",
      "Epoch 33/1000\n",
      " 1/18 [>.............................] - ETA: 0s - loss: 0.6743 - accuracy: 0.7188\n",
      "Epoch 33: saving model to model/keypoint_classifier\\keypoint_classifier.hdf5\n",
      "18/18 [==============================] - 0s 7ms/step - loss: 0.5571 - accuracy: 0.7733 - val_loss: 0.3559 - val_accuracy: 0.8931\n",
      "Epoch 34/1000\n",
      " 1/18 [>.............................] - ETA: 0s - loss: 0.6234 - accuracy: 0.7500\n",
      "Epoch 34: saving model to model/keypoint_classifier\\keypoint_classifier.hdf5\n",
      "18/18 [==============================] - 0s 6ms/step - loss: 0.5671 - accuracy: 0.7624 - val_loss: 0.3433 - val_accuracy: 0.9452\n",
      "Epoch 35/1000\n",
      " 1/18 [>.............................] - ETA: 0s - loss: 0.6444 - accuracy: 0.7266\n",
      "Epoch 35: saving model to model/keypoint_classifier\\keypoint_classifier.hdf5\n",
      "18/18 [==============================] - 0s 7ms/step - loss: 0.5359 - accuracy: 0.7824 - val_loss: 0.3364 - val_accuracy: 0.9518\n",
      "Epoch 36/1000\n",
      " 1/18 [>.............................] - ETA: 0s - loss: 0.4582 - accuracy: 0.8359\n",
      "Epoch 36: saving model to model/keypoint_classifier\\keypoint_classifier.hdf5\n",
      "18/18 [==============================] - 0s 7ms/step - loss: 0.5416 - accuracy: 0.7859 - val_loss: 0.3308 - val_accuracy: 0.9387\n",
      "Epoch 37/1000\n",
      " 1/18 [>.............................] - ETA: 0s - loss: 0.6011 - accuracy: 0.7109\n",
      "Epoch 37: saving model to model/keypoint_classifier\\keypoint_classifier.hdf5\n",
      "18/18 [==============================] - 0s 7ms/step - loss: 0.5314 - accuracy: 0.7794 - val_loss: 0.3241 - val_accuracy: 0.9531\n",
      "Epoch 38/1000\n",
      "17/18 [===========================>..] - ETA: 0s - loss: 0.5212 - accuracy: 0.7932\n",
      "Epoch 38: saving model to model/keypoint_classifier\\keypoint_classifier.hdf5\n",
      "18/18 [==============================] - 0s 8ms/step - loss: 0.5246 - accuracy: 0.7894 - val_loss: 0.3183 - val_accuracy: 0.9570\n",
      "Epoch 39/1000\n",
      " 1/18 [>.............................] - ETA: 0s - loss: 0.6418 - accuracy: 0.7031\n",
      "Epoch 39: saving model to model/keypoint_classifier\\keypoint_classifier.hdf5\n",
      "18/18 [==============================] - 0s 7ms/step - loss: 0.5287 - accuracy: 0.7903 - val_loss: 0.3175 - val_accuracy: 0.9452\n",
      "Epoch 40/1000\n",
      " 1/18 [>.............................] - ETA: 0s - loss: 0.4707 - accuracy: 0.7891\n",
      "Epoch 40: saving model to model/keypoint_classifier\\keypoint_classifier.hdf5\n",
      "18/18 [==============================] - 0s 7ms/step - loss: 0.5123 - accuracy: 0.7933 - val_loss: 0.3049 - val_accuracy: 0.9544\n",
      "Epoch 41/1000\n",
      " 1/18 [>.............................] - ETA: 0s - loss: 0.4412 - accuracy: 0.8359\n",
      "Epoch 41: saving model to model/keypoint_classifier\\keypoint_classifier.hdf5\n",
      "18/18 [==============================] - 0s 7ms/step - loss: 0.5069 - accuracy: 0.8003 - val_loss: 0.3012 - val_accuracy: 0.9583\n",
      "Epoch 42/1000\n",
      " 1/18 [>.............................] - ETA: 0s - loss: 0.4832 - accuracy: 0.7969\n",
      "Epoch 42: saving model to model/keypoint_classifier\\keypoint_classifier.hdf5\n",
      "18/18 [==============================] - 0s 7ms/step - loss: 0.5030 - accuracy: 0.8090 - val_loss: 0.2951 - val_accuracy: 0.9622\n",
      "Epoch 43/1000\n",
      "17/18 [===========================>..] - ETA: 0s - loss: 0.5167 - accuracy: 0.8019\n",
      "Epoch 43: saving model to model/keypoint_classifier\\keypoint_classifier.hdf5\n",
      "18/18 [==============================] - 0s 8ms/step - loss: 0.5205 - accuracy: 0.7990 - val_loss: 0.2922 - val_accuracy: 0.9544\n",
      "Epoch 44/1000\n",
      "17/18 [===========================>..] - ETA: 0s - loss: 0.4724 - accuracy: 0.8203\n",
      "Epoch 44: saving model to model/keypoint_classifier\\keypoint_classifier.hdf5\n",
      "18/18 [==============================] - 0s 8ms/step - loss: 0.4773 - accuracy: 0.8198 - val_loss: 0.2862 - val_accuracy: 0.9531\n",
      "Epoch 45/1000\n",
      " 1/18 [>.............................] - ETA: 0s - loss: 0.4603 - accuracy: 0.8047\n",
      "Epoch 45: saving model to model/keypoint_classifier\\keypoint_classifier.hdf5\n",
      "18/18 [==============================] - 0s 8ms/step - loss: 0.4765 - accuracy: 0.8142 - val_loss: 0.2732 - val_accuracy: 0.9674\n",
      "Epoch 46/1000\n",
      "18/18 [==============================] - ETA: 0s - loss: 0.4775 - accuracy: 0.8116\n",
      "Epoch 46: saving model to model/keypoint_classifier\\keypoint_classifier.hdf5\n",
      "18/18 [==============================] - 0s 7ms/step - loss: 0.4775 - accuracy: 0.8116 - val_loss: 0.2769 - val_accuracy: 0.9596\n",
      "Epoch 47/1000\n",
      "17/18 [===========================>..] - ETA: 0s - loss: 0.4740 - accuracy: 0.8093\n",
      "Epoch 47: saving model to model/keypoint_classifier\\keypoint_classifier.hdf5\n",
      "18/18 [==============================] - 0s 8ms/step - loss: 0.4720 - accuracy: 0.8098 - val_loss: 0.2722 - val_accuracy: 0.9596\n",
      "Epoch 48/1000\n",
      " 1/18 [>.............................] - ETA: 0s - loss: 0.4691 - accuracy: 0.8125\n",
      "Epoch 48: saving model to model/keypoint_classifier\\keypoint_classifier.hdf5\n",
      "18/18 [==============================] - 0s 7ms/step - loss: 0.4868 - accuracy: 0.8077 - val_loss: 0.2658 - val_accuracy: 0.9609\n",
      "Epoch 49/1000\n",
      " 1/18 [>.............................] - ETA: 0s - loss: 0.5059 - accuracy: 0.8438\n",
      "Epoch 49: saving model to model/keypoint_classifier\\keypoint_classifier.hdf5\n",
      "18/18 [==============================] - 0s 7ms/step - loss: 0.4697 - accuracy: 0.8185 - val_loss: 0.2590 - val_accuracy: 0.9687\n",
      "Epoch 50/1000\n",
      "17/18 [===========================>..] - ETA: 0s - loss: 0.4623 - accuracy: 0.8222\n",
      "Epoch 50: saving model to model/keypoint_classifier\\keypoint_classifier.hdf5\n",
      "18/18 [==============================] - 0s 8ms/step - loss: 0.4606 - accuracy: 0.8220 - val_loss: 0.2572 - val_accuracy: 0.9596\n",
      "Epoch 51/1000\n",
      "17/18 [===========================>..] - ETA: 0s - loss: 0.4596 - accuracy: 0.8171\n",
      "Epoch 51: saving model to model/keypoint_classifier\\keypoint_classifier.hdf5\n",
      "18/18 [==============================] - 0s 9ms/step - loss: 0.4561 - accuracy: 0.8211 - val_loss: 0.2481 - val_accuracy: 0.9700\n",
      "Epoch 52/1000\n",
      "17/18 [===========================>..] - ETA: 0s - loss: 0.4324 - accuracy: 0.8369\n",
      "Epoch 52: saving model to model/keypoint_classifier\\keypoint_classifier.hdf5\n",
      "18/18 [==============================] - 0s 9ms/step - loss: 0.4329 - accuracy: 0.8372 - val_loss: 0.2448 - val_accuracy: 0.9687\n",
      "Epoch 53/1000\n",
      "14/18 [======================>.......] - ETA: 0s - loss: 0.4375 - accuracy: 0.8220\n",
      "Epoch 53: saving model to model/keypoint_classifier\\keypoint_classifier.hdf5\n",
      "18/18 [==============================] - 0s 9ms/step - loss: 0.4482 - accuracy: 0.8194 - val_loss: 0.2423 - val_accuracy: 0.9674\n",
      "Epoch 54/1000\n",
      "16/18 [=========================>....] - ETA: 0s - loss: 0.4563 - accuracy: 0.8252\n",
      "Epoch 54: saving model to model/keypoint_classifier\\keypoint_classifier.hdf5\n",
      "18/18 [==============================] - 0s 8ms/step - loss: 0.4566 - accuracy: 0.8246 - val_loss: 0.2418 - val_accuracy: 0.9674\n",
      "Epoch 55/1000\n",
      " 1/18 [>.............................] - ETA: 0s - loss: 0.4929 - accuracy: 0.8047\n",
      "Epoch 55: saving model to model/keypoint_classifier\\keypoint_classifier.hdf5\n",
      "18/18 [==============================] - 0s 9ms/step - loss: 0.4353 - accuracy: 0.8207 - val_loss: 0.2356 - val_accuracy: 0.9648\n",
      "Epoch 56/1000\n",
      "14/18 [======================>.......] - ETA: 0s - loss: 0.4618 - accuracy: 0.8209\n",
      "Epoch 56: saving model to model/keypoint_classifier\\keypoint_classifier.hdf5\n",
      "18/18 [==============================] - 0s 9ms/step - loss: 0.4511 - accuracy: 0.8290 - val_loss: 0.2304 - val_accuracy: 0.9635\n",
      "Epoch 57/1000\n",
      "12/18 [===================>..........] - ETA: 0s - loss: 0.4265 - accuracy: 0.8294\n",
      "Epoch 57: saving model to model/keypoint_classifier\\keypoint_classifier.hdf5\n",
      "18/18 [==============================] - 0s 10ms/step - loss: 0.4397 - accuracy: 0.8251 - val_loss: 0.2326 - val_accuracy: 0.9609\n",
      "Epoch 58/1000\n",
      "18/18 [==============================] - ETA: 0s - loss: 0.4363 - accuracy: 0.8333\n",
      "Epoch 58: saving model to model/keypoint_classifier\\keypoint_classifier.hdf5\n",
      "18/18 [==============================] - 0s 8ms/step - loss: 0.4363 - accuracy: 0.8333 - val_loss: 0.2309 - val_accuracy: 0.9557\n",
      "Epoch 59/1000\n",
      " 1/18 [>.............................] - ETA: 0s - loss: 0.3910 - accuracy: 0.8516\n",
      "Epoch 59: saving model to model/keypoint_classifier\\keypoint_classifier.hdf5\n",
      "18/18 [==============================] - 0s 7ms/step - loss: 0.4227 - accuracy: 0.8390 - val_loss: 0.2288 - val_accuracy: 0.9609\n",
      "Epoch 60/1000\n",
      "16/18 [=========================>....] - ETA: 0s - loss: 0.4121 - accuracy: 0.8408\n",
      "Epoch 60: saving model to model/keypoint_classifier\\keypoint_classifier.hdf5\n",
      "18/18 [==============================] - 0s 8ms/step - loss: 0.4189 - accuracy: 0.8355 - val_loss: 0.2230 - val_accuracy: 0.9570\n",
      "Epoch 61/1000\n",
      " 1/18 [>.............................] - ETA: 0s - loss: 0.4365 - accuracy: 0.8359\n",
      "Epoch 61: saving model to model/keypoint_classifier\\keypoint_classifier.hdf5\n",
      "18/18 [==============================] - 0s 7ms/step - loss: 0.4077 - accuracy: 0.8442 - val_loss: 0.2186 - val_accuracy: 0.9570\n",
      "Epoch 62/1000\n",
      " 1/18 [>.............................] - ETA: 0s - loss: 0.4260 - accuracy: 0.8750\n",
      "Epoch 62: saving model to model/keypoint_classifier\\keypoint_classifier.hdf5\n",
      "18/18 [==============================] - 0s 7ms/step - loss: 0.4204 - accuracy: 0.8264 - val_loss: 0.2156 - val_accuracy: 0.9635\n",
      "Epoch 63/1000\n",
      " 1/18 [>.............................] - ETA: 0s - loss: 0.4225 - accuracy: 0.8516\n",
      "Epoch 63: saving model to model/keypoint_classifier\\keypoint_classifier.hdf5\n",
      "18/18 [==============================] - 0s 8ms/step - loss: 0.4244 - accuracy: 0.8325 - val_loss: 0.2176 - val_accuracy: 0.9570\n",
      "Epoch 64/1000\n",
      "15/18 [========================>.....] - ETA: 0s - loss: 0.4305 - accuracy: 0.8297\n",
      "Epoch 64: saving model to model/keypoint_classifier\\keypoint_classifier.hdf5\n",
      "18/18 [==============================] - 0s 9ms/step - loss: 0.4212 - accuracy: 0.8364 - val_loss: 0.2182 - val_accuracy: 0.9635\n",
      "Epoch 65/1000\n",
      " 1/18 [>.............................] - ETA: 0s - loss: 0.4701 - accuracy: 0.7969\n",
      "Epoch 65: saving model to model/keypoint_classifier\\keypoint_classifier.hdf5\n",
      "18/18 [==============================] - 0s 7ms/step - loss: 0.3961 - accuracy: 0.8442 - val_loss: 0.2133 - val_accuracy: 0.9609\n",
      "Epoch 66/1000\n",
      "16/18 [=========================>....] - ETA: 0s - loss: 0.4235 - accuracy: 0.8374\n",
      "Epoch 66: saving model to model/keypoint_classifier\\keypoint_classifier.hdf5\n",
      "18/18 [==============================] - 0s 8ms/step - loss: 0.4325 - accuracy: 0.8329 - val_loss: 0.2112 - val_accuracy: 0.9570\n",
      "Epoch 67/1000\n",
      " 1/18 [>.............................] - ETA: 0s - loss: 0.4045 - accuracy: 0.8672\n",
      "Epoch 67: saving model to model/keypoint_classifier\\keypoint_classifier.hdf5\n",
      "18/18 [==============================] - 0s 7ms/step - loss: 0.4045 - accuracy: 0.8416 - val_loss: 0.2093 - val_accuracy: 0.9544\n",
      "Epoch 68/1000\n",
      " 1/18 [>.............................] - ETA: 0s - loss: 0.4205 - accuracy: 0.8359\n",
      "Epoch 68: saving model to model/keypoint_classifier\\keypoint_classifier.hdf5\n",
      "18/18 [==============================] - 0s 7ms/step - loss: 0.4124 - accuracy: 0.8368 - val_loss: 0.2059 - val_accuracy: 0.9570\n",
      "Epoch 69/1000\n",
      " 1/18 [>.............................] - ETA: 0s - loss: 0.4659 - accuracy: 0.8047\n",
      "Epoch 69: saving model to model/keypoint_classifier\\keypoint_classifier.hdf5\n",
      "18/18 [==============================] - 0s 7ms/step - loss: 0.4010 - accuracy: 0.8433 - val_loss: 0.2000 - val_accuracy: 0.9570\n",
      "Epoch 70/1000\n",
      " 1/18 [>.............................] - ETA: 0s - loss: 0.4666 - accuracy: 0.8047\n",
      "Epoch 70: saving model to model/keypoint_classifier\\keypoint_classifier.hdf5\n",
      "18/18 [==============================] - 0s 7ms/step - loss: 0.4072 - accuracy: 0.8433 - val_loss: 0.1970 - val_accuracy: 0.9570\n",
      "Epoch 71/1000\n",
      "18/18 [==============================] - ETA: 0s - loss: 0.3843 - accuracy: 0.8577\n",
      "Epoch 71: saving model to model/keypoint_classifier\\keypoint_classifier.hdf5\n",
      "18/18 [==============================] - 0s 8ms/step - loss: 0.3843 - accuracy: 0.8577 - val_loss: 0.1932 - val_accuracy: 0.9635\n",
      "Epoch 72/1000\n",
      "16/18 [=========================>....] - ETA: 0s - loss: 0.3850 - accuracy: 0.8491\n",
      "Epoch 72: saving model to model/keypoint_classifier\\keypoint_classifier.hdf5\n",
      "18/18 [==============================] - 0s 8ms/step - loss: 0.3864 - accuracy: 0.8512 - val_loss: 0.1953 - val_accuracy: 0.9570\n",
      "Epoch 73/1000\n",
      "18/18 [==============================] - ETA: 0s - loss: 0.3823 - accuracy: 0.8525\n",
      "Epoch 73: saving model to model/keypoint_classifier\\keypoint_classifier.hdf5\n",
      "18/18 [==============================] - 0s 7ms/step - loss: 0.3823 - accuracy: 0.8525 - val_loss: 0.1905 - val_accuracy: 0.9622\n",
      "Epoch 74/1000\n",
      "18/18 [==============================] - ETA: 0s - loss: 0.3809 - accuracy: 0.8529\n",
      "Epoch 74: saving model to model/keypoint_classifier\\keypoint_classifier.hdf5\n",
      "18/18 [==============================] - 0s 7ms/step - loss: 0.3809 - accuracy: 0.8529 - val_loss: 0.1901 - val_accuracy: 0.9583\n",
      "Epoch 75/1000\n",
      "18/18 [==============================] - ETA: 0s - loss: 0.3791 - accuracy: 0.8555\n",
      "Epoch 75: saving model to model/keypoint_classifier\\keypoint_classifier.hdf5\n",
      "18/18 [==============================] - 0s 7ms/step - loss: 0.3791 - accuracy: 0.8555 - val_loss: 0.1867 - val_accuracy: 0.9570\n",
      "Epoch 76/1000\n",
      " 1/18 [>.............................] - ETA: 0s - loss: 0.3330 - accuracy: 0.8672\n",
      "Epoch 76: saving model to model/keypoint_classifier\\keypoint_classifier.hdf5\n",
      "18/18 [==============================] - 0s 7ms/step - loss: 0.3875 - accuracy: 0.8512 - val_loss: 0.1854 - val_accuracy: 0.9583\n",
      "Epoch 77/1000\n",
      " 1/18 [>.............................] - ETA: 0s - loss: 0.3717 - accuracy: 0.8281\n",
      "Epoch 77: saving model to model/keypoint_classifier\\keypoint_classifier.hdf5\n",
      "18/18 [==============================] - 0s 7ms/step - loss: 0.3511 - accuracy: 0.8673 - val_loss: 0.1808 - val_accuracy: 0.9622\n",
      "Epoch 78/1000\n",
      " 1/18 [>.............................] - ETA: 0s - loss: 0.3352 - accuracy: 0.8672\n",
      "Epoch 78: saving model to model/keypoint_classifier\\keypoint_classifier.hdf5\n",
      "18/18 [==============================] - 0s 7ms/step - loss: 0.3550 - accuracy: 0.8616 - val_loss: 0.1697 - val_accuracy: 0.9635\n",
      "Epoch 79/1000\n",
      "16/18 [=========================>....] - ETA: 0s - loss: 0.3448 - accuracy: 0.8779\n",
      "Epoch 79: saving model to model/keypoint_classifier\\keypoint_classifier.hdf5\n",
      "18/18 [==============================] - 0s 8ms/step - loss: 0.3483 - accuracy: 0.8742 - val_loss: 0.1720 - val_accuracy: 0.9622\n",
      "Epoch 80/1000\n",
      "17/18 [===========================>..] - ETA: 0s - loss: 0.3477 - accuracy: 0.8653\n",
      "Epoch 80: saving model to model/keypoint_classifier\\keypoint_classifier.hdf5\n",
      "18/18 [==============================] - 0s 8ms/step - loss: 0.3445 - accuracy: 0.8664 - val_loss: 0.1699 - val_accuracy: 0.9635\n",
      "Epoch 81/1000\n",
      "17/18 [===========================>..] - ETA: 0s - loss: 0.3460 - accuracy: 0.8631\n",
      "Epoch 81: saving model to model/keypoint_classifier\\keypoint_classifier.hdf5\n",
      "18/18 [==============================] - 0s 8ms/step - loss: 0.3472 - accuracy: 0.8621 - val_loss: 0.1675 - val_accuracy: 0.9635\n",
      "Epoch 82/1000\n",
      " 1/18 [>.............................] - ETA: 0s - loss: 0.3948 - accuracy: 0.8516\n",
      "Epoch 82: saving model to model/keypoint_classifier\\keypoint_classifier.hdf5\n",
      "18/18 [==============================] - 0s 10ms/step - loss: 0.3576 - accuracy: 0.8638 - val_loss: 0.1684 - val_accuracy: 0.9622\n",
      "Epoch 83/1000\n",
      "14/18 [======================>.......] - ETA: 0s - loss: 0.3535 - accuracy: 0.8622\n",
      "Epoch 83: saving model to model/keypoint_classifier\\keypoint_classifier.hdf5\n",
      "18/18 [==============================] - 0s 9ms/step - loss: 0.3463 - accuracy: 0.8647 - val_loss: 0.1684 - val_accuracy: 0.9622\n",
      "Epoch 84/1000\n",
      " 1/18 [>.............................] - ETA: 0s - loss: 0.2769 - accuracy: 0.9062\n",
      "Epoch 84: saving model to model/keypoint_classifier\\keypoint_classifier.hdf5\n",
      "18/18 [==============================] - 0s 7ms/step - loss: 0.3475 - accuracy: 0.8673 - val_loss: 0.1645 - val_accuracy: 0.9648\n",
      "Epoch 85/1000\n",
      "17/18 [===========================>..] - ETA: 0s - loss: 0.3556 - accuracy: 0.8658\n",
      "Epoch 85: saving model to model/keypoint_classifier\\keypoint_classifier.hdf5\n",
      "18/18 [==============================] - 0s 8ms/step - loss: 0.3550 - accuracy: 0.8664 - val_loss: 0.1691 - val_accuracy: 0.9622\n",
      "Epoch 86/1000\n",
      "16/18 [=========================>....] - ETA: 0s - loss: 0.3487 - accuracy: 0.8638\n",
      "Epoch 86: saving model to model/keypoint_classifier\\keypoint_classifier.hdf5\n",
      "18/18 [==============================] - 0s 8ms/step - loss: 0.3520 - accuracy: 0.8616 - val_loss: 0.1616 - val_accuracy: 0.9674\n",
      "Epoch 87/1000\n",
      "17/18 [===========================>..] - ETA: 0s - loss: 0.3522 - accuracy: 0.8649\n",
      "Epoch 87: saving model to model/keypoint_classifier\\keypoint_classifier.hdf5\n",
      "18/18 [==============================] - 0s 8ms/step - loss: 0.3537 - accuracy: 0.8655 - val_loss: 0.1640 - val_accuracy: 0.9635\n",
      "Epoch 88/1000\n",
      " 1/18 [>.............................] - ETA: 0s - loss: 0.2994 - accuracy: 0.8594\n",
      "Epoch 88: saving model to model/keypoint_classifier\\keypoint_classifier.hdf5\n",
      "18/18 [==============================] - 0s 7ms/step - loss: 0.3364 - accuracy: 0.8712 - val_loss: 0.1601 - val_accuracy: 0.9648\n",
      "Epoch 89/1000\n",
      " 1/18 [>.............................] - ETA: 0s - loss: 0.3110 - accuracy: 0.8750\n",
      "Epoch 89: saving model to model/keypoint_classifier\\keypoint_classifier.hdf5\n",
      "18/18 [==============================] - 0s 7ms/step - loss: 0.3420 - accuracy: 0.8716 - val_loss: 0.1630 - val_accuracy: 0.9648\n",
      "Epoch 90/1000\n",
      " 1/18 [>.............................] - ETA: 0s - loss: 0.3868 - accuracy: 0.8594\n",
      "Epoch 90: saving model to model/keypoint_classifier\\keypoint_classifier.hdf5\n",
      "18/18 [==============================] - 0s 7ms/step - loss: 0.3450 - accuracy: 0.8699 - val_loss: 0.1545 - val_accuracy: 0.9687\n",
      "Epoch 91/1000\n",
      " 1/18 [>.............................] - ETA: 0s - loss: 0.3427 - accuracy: 0.8594\n",
      "Epoch 91: saving model to model/keypoint_classifier\\keypoint_classifier.hdf5\n",
      "18/18 [==============================] - 0s 7ms/step - loss: 0.3459 - accuracy: 0.8703 - val_loss: 0.1618 - val_accuracy: 0.9648\n",
      "Epoch 92/1000\n",
      " 1/18 [>.............................] - ETA: 0s - loss: 0.2865 - accuracy: 0.8750\n",
      "Epoch 92: saving model to model/keypoint_classifier\\keypoint_classifier.hdf5\n",
      "18/18 [==============================] - 0s 7ms/step - loss: 0.3402 - accuracy: 0.8642 - val_loss: 0.1576 - val_accuracy: 0.9622\n",
      "Epoch 93/1000\n",
      " 1/18 [>.............................] - ETA: 0s - loss: 0.2601 - accuracy: 0.9141\n",
      "Epoch 93: saving model to model/keypoint_classifier\\keypoint_classifier.hdf5\n",
      "18/18 [==============================] - 0s 7ms/step - loss: 0.3280 - accuracy: 0.8777 - val_loss: 0.1573 - val_accuracy: 0.9596\n",
      "Epoch 94/1000\n",
      "17/18 [===========================>..] - ETA: 0s - loss: 0.3190 - accuracy: 0.8842\n",
      "Epoch 94: saving model to model/keypoint_classifier\\keypoint_classifier.hdf5\n",
      "18/18 [==============================] - 0s 8ms/step - loss: 0.3227 - accuracy: 0.8834 - val_loss: 0.1503 - val_accuracy: 0.9648\n",
      "Epoch 95/1000\n",
      "17/18 [===========================>..] - ETA: 0s - loss: 0.3249 - accuracy: 0.8722\n",
      "Epoch 95: saving model to model/keypoint_classifier\\keypoint_classifier.hdf5\n",
      "18/18 [==============================] - 0s 8ms/step - loss: 0.3217 - accuracy: 0.8734 - val_loss: 0.1476 - val_accuracy: 0.9661\n",
      "Epoch 96/1000\n",
      " 1/18 [>.............................] - ETA: 0s - loss: 0.3391 - accuracy: 0.8359\n",
      "Epoch 96: saving model to model/keypoint_classifier\\keypoint_classifier.hdf5\n",
      "18/18 [==============================] - 0s 7ms/step - loss: 0.3229 - accuracy: 0.8812 - val_loss: 0.1416 - val_accuracy: 0.9713\n",
      "Epoch 97/1000\n",
      "17/18 [===========================>..] - ETA: 0s - loss: 0.3236 - accuracy: 0.8865\n",
      "Epoch 97: saving model to model/keypoint_classifier\\keypoint_classifier.hdf5\n",
      "18/18 [==============================] - 0s 8ms/step - loss: 0.3198 - accuracy: 0.8864 - val_loss: 0.1419 - val_accuracy: 0.9687\n",
      "Epoch 98/1000\n",
      " 1/18 [>.............................] - ETA: 0s - loss: 0.2591 - accuracy: 0.8906\n",
      "Epoch 98: saving model to model/keypoint_classifier\\keypoint_classifier.hdf5\n",
      "18/18 [==============================] - 0s 7ms/step - loss: 0.2969 - accuracy: 0.8882 - val_loss: 0.1392 - val_accuracy: 0.9674\n",
      "Epoch 99/1000\n",
      "18/18 [==============================] - ETA: 0s - loss: 0.3286 - accuracy: 0.8699\n",
      "Epoch 99: saving model to model/keypoint_classifier\\keypoint_classifier.hdf5\n",
      "18/18 [==============================] - 0s 7ms/step - loss: 0.3286 - accuracy: 0.8699 - val_loss: 0.1413 - val_accuracy: 0.9713\n",
      "Epoch 100/1000\n",
      " 1/18 [>.............................] - ETA: 0s - loss: 0.3199 - accuracy: 0.8672\n",
      "Epoch 100: saving model to model/keypoint_classifier\\keypoint_classifier.hdf5\n",
      "18/18 [==============================] - 0s 7ms/step - loss: 0.3211 - accuracy: 0.8773 - val_loss: 0.1422 - val_accuracy: 0.9713\n",
      "Epoch 101/1000\n",
      "15/18 [========================>.....] - ETA: 0s - loss: 0.2955 - accuracy: 0.8859\n",
      "Epoch 101: saving model to model/keypoint_classifier\\keypoint_classifier.hdf5\n",
      "18/18 [==============================] - 0s 9ms/step - loss: 0.2985 - accuracy: 0.8847 - val_loss: 0.1408 - val_accuracy: 0.9687\n",
      "Epoch 102/1000\n",
      "17/18 [===========================>..] - ETA: 0s - loss: 0.3034 - accuracy: 0.8819\n",
      "Epoch 102: saving model to model/keypoint_classifier\\keypoint_classifier.hdf5\n",
      "18/18 [==============================] - 0s 8ms/step - loss: 0.3047 - accuracy: 0.8825 - val_loss: 0.1390 - val_accuracy: 0.9635\n",
      "Epoch 103/1000\n",
      " 1/18 [>.............................] - ETA: 0s - loss: 0.2783 - accuracy: 0.8750\n",
      "Epoch 103: saving model to model/keypoint_classifier\\keypoint_classifier.hdf5\n",
      "18/18 [==============================] - 0s 9ms/step - loss: 0.3142 - accuracy: 0.8834 - val_loss: 0.1336 - val_accuracy: 0.9674\n",
      "Epoch 104/1000\n",
      "14/18 [======================>.......] - ETA: 0s - loss: 0.3113 - accuracy: 0.8806\n",
      "Epoch 104: saving model to model/keypoint_classifier\\keypoint_classifier.hdf5\n",
      "18/18 [==============================] - 0s 10ms/step - loss: 0.3109 - accuracy: 0.8821 - val_loss: 0.1326 - val_accuracy: 0.9700\n",
      "Epoch 105/1000\n",
      "17/18 [===========================>..] - ETA: 0s - loss: 0.2902 - accuracy: 0.8920\n",
      "Epoch 105: saving model to model/keypoint_classifier\\keypoint_classifier.hdf5\n",
      "18/18 [==============================] - 0s 11ms/step - loss: 0.2880 - accuracy: 0.8943 - val_loss: 0.1330 - val_accuracy: 0.9674\n",
      "Epoch 106/1000\n",
      "15/18 [========================>.....] - ETA: 0s - loss: 0.2902 - accuracy: 0.8901\n",
      "Epoch 106: saving model to model/keypoint_classifier\\keypoint_classifier.hdf5\n",
      "18/18 [==============================] - 0s 10ms/step - loss: 0.2864 - accuracy: 0.8908 - val_loss: 0.1347 - val_accuracy: 0.9713\n",
      "Epoch 107/1000\n",
      "14/18 [======================>.......] - ETA: 0s - loss: 0.3203 - accuracy: 0.8806\n",
      "Epoch 107: saving model to model/keypoint_classifier\\keypoint_classifier.hdf5\n",
      "18/18 [==============================] - 0s 9ms/step - loss: 0.3173 - accuracy: 0.8808 - val_loss: 0.1302 - val_accuracy: 0.9713\n",
      "Epoch 108/1000\n",
      "16/18 [=========================>....] - ETA: 0s - loss: 0.2812 - accuracy: 0.8887\n",
      "Epoch 108: saving model to model/keypoint_classifier\\keypoint_classifier.hdf5\n",
      "18/18 [==============================] - 0s 9ms/step - loss: 0.2862 - accuracy: 0.8886 - val_loss: 0.1290 - val_accuracy: 0.9713\n",
      "Epoch 109/1000\n",
      "15/18 [========================>.....] - ETA: 0s - loss: 0.2936 - accuracy: 0.8938\n",
      "Epoch 109: saving model to model/keypoint_classifier\\keypoint_classifier.hdf5\n",
      "18/18 [==============================] - 0s 12ms/step - loss: 0.2925 - accuracy: 0.8930 - val_loss: 0.1307 - val_accuracy: 0.9713\n",
      "Epoch 110/1000\n",
      "13/18 [====================>.........] - ETA: 0s - loss: 0.3037 - accuracy: 0.8864\n",
      "Epoch 110: saving model to model/keypoint_classifier\\keypoint_classifier.hdf5\n",
      "18/18 [==============================] - 0s 10ms/step - loss: 0.3030 - accuracy: 0.8860 - val_loss: 0.1365 - val_accuracy: 0.9648\n",
      "Epoch 111/1000\n",
      "17/18 [===========================>..] - ETA: 0s - loss: 0.2797 - accuracy: 0.8957\n",
      "Epoch 111: saving model to model/keypoint_classifier\\keypoint_classifier.hdf5\n",
      "18/18 [==============================] - 0s 8ms/step - loss: 0.2808 - accuracy: 0.8956 - val_loss: 0.1310 - val_accuracy: 0.9687\n",
      "Epoch 112/1000\n",
      "12/18 [===================>..........] - ETA: 0s - loss: 0.2865 - accuracy: 0.8939\n",
      "Epoch 112: saving model to model/keypoint_classifier\\keypoint_classifier.hdf5\n",
      "18/18 [==============================] - 0s 14ms/step - loss: 0.2822 - accuracy: 0.8964 - val_loss: 0.1248 - val_accuracy: 0.9726\n",
      "Epoch 113/1000\n",
      "13/18 [====================>.........] - ETA: 0s - loss: 0.3105 - accuracy: 0.8822\n",
      "Epoch 113: saving model to model/keypoint_classifier\\keypoint_classifier.hdf5\n",
      "18/18 [==============================] - 0s 11ms/step - loss: 0.3004 - accuracy: 0.8895 - val_loss: 0.1314 - val_accuracy: 0.9713\n",
      "Epoch 114/1000\n",
      "12/18 [===================>..........] - ETA: 0s - loss: 0.2861 - accuracy: 0.9017\n",
      "Epoch 114: saving model to model/keypoint_classifier\\keypoint_classifier.hdf5\n",
      "18/18 [==============================] - 0s 10ms/step - loss: 0.2774 - accuracy: 0.9034 - val_loss: 0.1319 - val_accuracy: 0.9700\n",
      "Epoch 115/1000\n",
      " 1/18 [>.............................] - ETA: 0s - loss: 0.3817 - accuracy: 0.8359\n",
      "Epoch 115: saving model to model/keypoint_classifier\\keypoint_classifier.hdf5\n",
      "18/18 [==============================] - 0s 7ms/step - loss: 0.2958 - accuracy: 0.8816 - val_loss: 0.1246 - val_accuracy: 0.9726\n",
      "Epoch 116/1000\n",
      "16/18 [=========================>....] - ETA: 0s - loss: 0.2830 - accuracy: 0.8896\n",
      "Epoch 116: saving model to model/keypoint_classifier\\keypoint_classifier.hdf5\n",
      "18/18 [==============================] - 0s 8ms/step - loss: 0.2826 - accuracy: 0.8895 - val_loss: 0.1222 - val_accuracy: 0.9739\n",
      "Epoch 117/1000\n",
      "14/18 [======================>.......] - ETA: 0s - loss: 0.2953 - accuracy: 0.8862\n",
      "Epoch 117: saving model to model/keypoint_classifier\\keypoint_classifier.hdf5\n",
      "18/18 [==============================] - 0s 15ms/step - loss: 0.2985 - accuracy: 0.8829 - val_loss: 0.1184 - val_accuracy: 0.9752\n",
      "Epoch 118/1000\n",
      "12/18 [===================>..........] - ETA: 0s - loss: 0.2782 - accuracy: 0.8861\n",
      "Epoch 118: saving model to model/keypoint_classifier\\keypoint_classifier.hdf5\n",
      "18/18 [==============================] - 0s 10ms/step - loss: 0.2824 - accuracy: 0.8886 - val_loss: 0.1198 - val_accuracy: 0.9739\n",
      "Epoch 119/1000\n",
      "13/18 [====================>.........] - ETA: 0s - loss: 0.2714 - accuracy: 0.9038\n",
      "Epoch 119: saving model to model/keypoint_classifier\\keypoint_classifier.hdf5\n",
      "18/18 [==============================] - 0s 16ms/step - loss: 0.2780 - accuracy: 0.8990 - val_loss: 0.1190 - val_accuracy: 0.9752\n",
      "Epoch 120/1000\n",
      "12/18 [===================>..........] - ETA: 0s - loss: 0.2915 - accuracy: 0.8939\n",
      "Epoch 120: saving model to model/keypoint_classifier\\keypoint_classifier.hdf5\n",
      "18/18 [==============================] - 0s 12ms/step - loss: 0.2844 - accuracy: 0.8956 - val_loss: 0.1203 - val_accuracy: 0.9726\n",
      "Epoch 121/1000\n",
      "14/18 [======================>.......] - ETA: 0s - loss: 0.2786 - accuracy: 0.8996\n",
      "Epoch 121: saving model to model/keypoint_classifier\\keypoint_classifier.hdf5\n",
      "18/18 [==============================] - 0s 10ms/step - loss: 0.2780 - accuracy: 0.8964 - val_loss: 0.1226 - val_accuracy: 0.9713\n",
      "Epoch 122/1000\n",
      "16/18 [=========================>....] - ETA: 0s - loss: 0.2875 - accuracy: 0.8828\n",
      "Epoch 122: saving model to model/keypoint_classifier\\keypoint_classifier.hdf5\n",
      "18/18 [==============================] - 0s 9ms/step - loss: 0.2798 - accuracy: 0.8886 - val_loss: 0.1245 - val_accuracy: 0.9713\n",
      "Epoch 123/1000\n",
      "15/18 [========================>.....] - ETA: 0s - loss: 0.2867 - accuracy: 0.9000\n",
      "Epoch 123: saving model to model/keypoint_classifier\\keypoint_classifier.hdf5\n",
      "18/18 [==============================] - 0s 8ms/step - loss: 0.2835 - accuracy: 0.8999 - val_loss: 0.1264 - val_accuracy: 0.9713\n",
      "Epoch 124/1000\n",
      "14/18 [======================>.......] - ETA: 0s - loss: 0.3084 - accuracy: 0.8778\n",
      "Epoch 124: saving model to model/keypoint_classifier\\keypoint_classifier.hdf5\n",
      "18/18 [==============================] - 0s 10ms/step - loss: 0.2978 - accuracy: 0.8860 - val_loss: 0.1225 - val_accuracy: 0.9713\n",
      "Epoch 125/1000\n",
      "13/18 [====================>.........] - ETA: 0s - loss: 0.2889 - accuracy: 0.8948\n",
      "Epoch 125: saving model to model/keypoint_classifier\\keypoint_classifier.hdf5\n",
      "18/18 [==============================] - 0s 10ms/step - loss: 0.2825 - accuracy: 0.8938 - val_loss: 0.1224 - val_accuracy: 0.9687\n",
      "Epoch 126/1000\n",
      "15/18 [========================>.....] - ETA: 0s - loss: 0.2659 - accuracy: 0.8984\n",
      "Epoch 126: saving model to model/keypoint_classifier\\keypoint_classifier.hdf5\n",
      "18/18 [==============================] - 0s 9ms/step - loss: 0.2673 - accuracy: 0.8986 - val_loss: 0.1210 - val_accuracy: 0.9713\n",
      "Epoch 127/1000\n",
      "15/18 [========================>.....] - ETA: 0s - loss: 0.2822 - accuracy: 0.8922\n",
      "Epoch 127: saving model to model/keypoint_classifier\\keypoint_classifier.hdf5\n",
      "18/18 [==============================] - 0s 10ms/step - loss: 0.2804 - accuracy: 0.8956 - val_loss: 0.1168 - val_accuracy: 0.9726\n",
      "Epoch 128/1000\n",
      "17/18 [===========================>..] - ETA: 0s - loss: 0.2666 - accuracy: 0.9030\n",
      "Epoch 128: saving model to model/keypoint_classifier\\keypoint_classifier.hdf5\n",
      "18/18 [==============================] - 0s 8ms/step - loss: 0.2595 - accuracy: 0.9060 - val_loss: 0.1153 - val_accuracy: 0.9739\n",
      "Epoch 129/1000\n",
      "14/18 [======================>.......] - ETA: 0s - loss: 0.2810 - accuracy: 0.8956\n",
      "Epoch 129: saving model to model/keypoint_classifier\\keypoint_classifier.hdf5\n",
      "18/18 [==============================] - 0s 10ms/step - loss: 0.2694 - accuracy: 0.8999 - val_loss: 0.1170 - val_accuracy: 0.9713\n",
      "Epoch 130/1000\n",
      "17/18 [===========================>..] - ETA: 0s - loss: 0.2713 - accuracy: 0.9044\n",
      "Epoch 130: saving model to model/keypoint_classifier\\keypoint_classifier.hdf5\n",
      "18/18 [==============================] - 0s 15ms/step - loss: 0.2766 - accuracy: 0.9017 - val_loss: 0.1151 - val_accuracy: 0.9713\n",
      "Epoch 131/1000\n",
      "15/18 [========================>.....] - ETA: 0s - loss: 0.2695 - accuracy: 0.8974\n",
      "Epoch 131: saving model to model/keypoint_classifier\\keypoint_classifier.hdf5\n",
      "18/18 [==============================] - 0s 9ms/step - loss: 0.2752 - accuracy: 0.8964 - val_loss: 0.1153 - val_accuracy: 0.9739\n",
      "Epoch 132/1000\n",
      "15/18 [========================>.....] - ETA: 0s - loss: 0.2650 - accuracy: 0.9036\n",
      "Epoch 132: saving model to model/keypoint_classifier\\keypoint_classifier.hdf5\n",
      "18/18 [==============================] - 0s 8ms/step - loss: 0.2599 - accuracy: 0.9051 - val_loss: 0.1125 - val_accuracy: 0.9739\n",
      "Epoch 133/1000\n",
      "17/18 [===========================>..] - ETA: 0s - loss: 0.2575 - accuracy: 0.8998\n",
      "Epoch 133: saving model to model/keypoint_classifier\\keypoint_classifier.hdf5\n",
      "18/18 [==============================] - 0s 10ms/step - loss: 0.2629 - accuracy: 0.8982 - val_loss: 0.1142 - val_accuracy: 0.9739\n",
      "Epoch 134/1000\n",
      " 9/18 [==============>...............] - ETA: 0s - loss: 0.2744 - accuracy: 0.8932\n",
      "Epoch 134: saving model to model/keypoint_classifier\\keypoint_classifier.hdf5\n",
      "18/18 [==============================] - 0s 12ms/step - loss: 0.2656 - accuracy: 0.8973 - val_loss: 0.1077 - val_accuracy: 0.9752\n",
      "Epoch 135/1000\n",
      "14/18 [======================>.......] - ETA: 0s - loss: 0.2757 - accuracy: 0.8979\n",
      "Epoch 135: saving model to model/keypoint_classifier\\keypoint_classifier.hdf5\n",
      "18/18 [==============================] - 0s 10ms/step - loss: 0.2657 - accuracy: 0.9021 - val_loss: 0.1104 - val_accuracy: 0.9739\n",
      "Epoch 136/1000\n",
      "15/18 [========================>.....] - ETA: 0s - loss: 0.2610 - accuracy: 0.9016\n",
      "Epoch 136: saving model to model/keypoint_classifier\\keypoint_classifier.hdf5\n",
      "18/18 [==============================] - 0s 10ms/step - loss: 0.2575 - accuracy: 0.9025 - val_loss: 0.1052 - val_accuracy: 0.9752\n",
      "Epoch 137/1000\n",
      "14/18 [======================>.......] - ETA: 0s - loss: 0.2871 - accuracy: 0.8878\n",
      "Epoch 137: saving model to model/keypoint_classifier\\keypoint_classifier.hdf5\n",
      "18/18 [==============================] - 0s 9ms/step - loss: 0.2818 - accuracy: 0.8877 - val_loss: 0.1097 - val_accuracy: 0.9739\n",
      "Epoch 138/1000\n",
      "14/18 [======================>.......] - ETA: 0s - loss: 0.2737 - accuracy: 0.8968\n",
      "Epoch 138: saving model to model/keypoint_classifier\\keypoint_classifier.hdf5\n",
      "18/18 [==============================] - 0s 10ms/step - loss: 0.2735 - accuracy: 0.8925 - val_loss: 0.1165 - val_accuracy: 0.9726\n",
      "Epoch 139/1000\n",
      "15/18 [========================>.....] - ETA: 0s - loss: 0.2489 - accuracy: 0.9125\n",
      "Epoch 139: saving model to model/keypoint_classifier\\keypoint_classifier.hdf5\n",
      "18/18 [==============================] - 0s 10ms/step - loss: 0.2518 - accuracy: 0.9108 - val_loss: 0.1119 - val_accuracy: 0.9739\n",
      "Epoch 140/1000\n",
      "15/18 [========================>.....] - ETA: 0s - loss: 0.2603 - accuracy: 0.9052\n",
      "Epoch 140: saving model to model/keypoint_classifier\\keypoint_classifier.hdf5\n",
      "18/18 [==============================] - 0s 10ms/step - loss: 0.2579 - accuracy: 0.9056 - val_loss: 0.1051 - val_accuracy: 0.9778\n",
      "Epoch 141/1000\n",
      "16/18 [=========================>....] - ETA: 0s - loss: 0.2475 - accuracy: 0.9023\n",
      "Epoch 141: saving model to model/keypoint_classifier\\keypoint_classifier.hdf5\n",
      "18/18 [==============================] - 0s 10ms/step - loss: 0.2531 - accuracy: 0.9008 - val_loss: 0.1092 - val_accuracy: 0.9726\n",
      "Epoch 142/1000\n",
      "11/18 [=================>............] - ETA: 0s - loss: 0.2628 - accuracy: 0.8984\n",
      "Epoch 142: saving model to model/keypoint_classifier\\keypoint_classifier.hdf5\n",
      "18/18 [==============================] - 0s 15ms/step - loss: 0.2633 - accuracy: 0.8986 - val_loss: 0.1107 - val_accuracy: 0.9713\n",
      "Epoch 143/1000\n",
      "15/18 [========================>.....] - ETA: 0s - loss: 0.2505 - accuracy: 0.9047\n",
      "Epoch 143: saving model to model/keypoint_classifier\\keypoint_classifier.hdf5\n",
      "18/18 [==============================] - 0s 10ms/step - loss: 0.2467 - accuracy: 0.9069 - val_loss: 0.1087 - val_accuracy: 0.9713\n",
      "Epoch 144/1000\n",
      "14/18 [======================>.......] - ETA: 0s - loss: 0.2783 - accuracy: 0.8906\n",
      "Epoch 144: saving model to model/keypoint_classifier\\keypoint_classifier.hdf5\n",
      "18/18 [==============================] - 0s 10ms/step - loss: 0.2760 - accuracy: 0.8930 - val_loss: 0.1129 - val_accuracy: 0.9713\n",
      "Epoch 145/1000\n",
      "15/18 [========================>.....] - ETA: 0s - loss: 0.2703 - accuracy: 0.8969\n",
      "Epoch 145: saving model to model/keypoint_classifier\\keypoint_classifier.hdf5\n",
      "18/18 [==============================] - 0s 9ms/step - loss: 0.2664 - accuracy: 0.8995 - val_loss: 0.1052 - val_accuracy: 0.9739\n",
      "Epoch 146/1000\n",
      "13/18 [====================>.........] - ETA: 0s - loss: 0.2615 - accuracy: 0.8972\n",
      "Epoch 146: saving model to model/keypoint_classifier\\keypoint_classifier.hdf5\n",
      "18/18 [==============================] - 0s 10ms/step - loss: 0.2624 - accuracy: 0.8999 - val_loss: 0.1080 - val_accuracy: 0.9739\n",
      "Epoch 147/1000\n",
      "14/18 [======================>.......] - ETA: 0s - loss: 0.2514 - accuracy: 0.9079\n",
      "Epoch 147: saving model to model/keypoint_classifier\\keypoint_classifier.hdf5\n",
      "18/18 [==============================] - 0s 10ms/step - loss: 0.2468 - accuracy: 0.9099 - val_loss: 0.1030 - val_accuracy: 0.9739\n",
      "Epoch 148/1000\n",
      "14/18 [======================>.......] - ETA: 0s - loss: 0.2437 - accuracy: 0.9085\n",
      "Epoch 148: saving model to model/keypoint_classifier\\keypoint_classifier.hdf5\n",
      "18/18 [==============================] - 0s 10ms/step - loss: 0.2397 - accuracy: 0.9108 - val_loss: 0.0977 - val_accuracy: 0.9752\n",
      "Epoch 149/1000\n",
      "14/18 [======================>.......] - ETA: 0s - loss: 0.2649 - accuracy: 0.8968\n",
      "Epoch 149: saving model to model/keypoint_classifier\\keypoint_classifier.hdf5\n",
      "18/18 [==============================] - 0s 10ms/step - loss: 0.2572 - accuracy: 0.8969 - val_loss: 0.1041 - val_accuracy: 0.9739\n",
      "Epoch 150/1000\n",
      "12/18 [===================>..........] - ETA: 0s - loss: 0.2593 - accuracy: 0.8997\n",
      "Epoch 150: saving model to model/keypoint_classifier\\keypoint_classifier.hdf5\n",
      "18/18 [==============================] - 0s 11ms/step - loss: 0.2556 - accuracy: 0.9012 - val_loss: 0.1057 - val_accuracy: 0.9739\n",
      "Epoch 151/1000\n",
      "13/18 [====================>.........] - ETA: 0s - loss: 0.2457 - accuracy: 0.9111\n",
      "Epoch 151: saving model to model/keypoint_classifier\\keypoint_classifier.hdf5\n",
      "18/18 [==============================] - 0s 10ms/step - loss: 0.2571 - accuracy: 0.9008 - val_loss: 0.1044 - val_accuracy: 0.9739\n",
      "Epoch 152/1000\n",
      "14/18 [======================>.......] - ETA: 0s - loss: 0.2520 - accuracy: 0.9046\n",
      "Epoch 152: saving model to model/keypoint_classifier\\keypoint_classifier.hdf5\n",
      "18/18 [==============================] - 0s 10ms/step - loss: 0.2478 - accuracy: 0.9064 - val_loss: 0.1028 - val_accuracy: 0.9752\n",
      "Epoch 153/1000\n",
      "15/18 [========================>.....] - ETA: 0s - loss: 0.2529 - accuracy: 0.9042\n",
      "Epoch 153: saving model to model/keypoint_classifier\\keypoint_classifier.hdf5\n",
      "18/18 [==============================] - 0s 13ms/step - loss: 0.2576 - accuracy: 0.9017 - val_loss: 0.1066 - val_accuracy: 0.9739\n",
      "Epoch 154/1000\n",
      "11/18 [=================>............] - ETA: 0s - loss: 0.2538 - accuracy: 0.9006\n",
      "Epoch 154: saving model to model/keypoint_classifier\\keypoint_classifier.hdf5\n",
      "18/18 [==============================] - 0s 12ms/step - loss: 0.2545 - accuracy: 0.8982 - val_loss: 0.1030 - val_accuracy: 0.9778\n",
      "Epoch 155/1000\n",
      "12/18 [===================>..........] - ETA: 0s - loss: 0.2658 - accuracy: 0.8952\n",
      "Epoch 155: saving model to model/keypoint_classifier\\keypoint_classifier.hdf5\n",
      "18/18 [==============================] - 0s 10ms/step - loss: 0.2605 - accuracy: 0.8969 - val_loss: 0.0997 - val_accuracy: 0.9778\n",
      "Epoch 156/1000\n",
      "15/18 [========================>.....] - ETA: 0s - loss: 0.2303 - accuracy: 0.9120\n",
      "Epoch 156: saving model to model/keypoint_classifier\\keypoint_classifier.hdf5\n",
      "18/18 [==============================] - 0s 10ms/step - loss: 0.2388 - accuracy: 0.9082 - val_loss: 0.1049 - val_accuracy: 0.9739\n",
      "Epoch 157/1000\n",
      "12/18 [===================>..........] - ETA: 0s - loss: 0.2558 - accuracy: 0.9043\n",
      "Epoch 157: saving model to model/keypoint_classifier\\keypoint_classifier.hdf5\n",
      "18/18 [==============================] - 0s 15ms/step - loss: 0.2454 - accuracy: 0.9095 - val_loss: 0.1003 - val_accuracy: 0.9765\n",
      "Epoch 158/1000\n",
      "13/18 [====================>.........] - ETA: 0s - loss: 0.2667 - accuracy: 0.8972\n",
      "Epoch 158: saving model to model/keypoint_classifier\\keypoint_classifier.hdf5\n",
      "18/18 [==============================] - 0s 10ms/step - loss: 0.2661 - accuracy: 0.8943 - val_loss: 0.1042 - val_accuracy: 0.9739\n",
      "Epoch 159/1000\n",
      "15/18 [========================>.....] - ETA: 0s - loss: 0.2426 - accuracy: 0.9062\n",
      "Epoch 159: saving model to model/keypoint_classifier\\keypoint_classifier.hdf5\n",
      "18/18 [==============================] - 0s 10ms/step - loss: 0.2481 - accuracy: 0.9021 - val_loss: 0.1011 - val_accuracy: 0.9752\n",
      "Epoch 160/1000\n",
      "14/18 [======================>.......] - ETA: 0s - loss: 0.2575 - accuracy: 0.9057\n",
      "Epoch 160: saving model to model/keypoint_classifier\\keypoint_classifier.hdf5\n",
      "18/18 [==============================] - 0s 9ms/step - loss: 0.2585 - accuracy: 0.9056 - val_loss: 0.1005 - val_accuracy: 0.9765\n",
      "Epoch 161/1000\n",
      "12/18 [===================>..........] - ETA: 0s - loss: 0.2429 - accuracy: 0.9102\n",
      "Epoch 161: saving model to model/keypoint_classifier\\keypoint_classifier.hdf5\n",
      "18/18 [==============================] - 0s 10ms/step - loss: 0.2404 - accuracy: 0.9095 - val_loss: 0.1053 - val_accuracy: 0.9726\n",
      "Epoch 162/1000\n",
      "14/18 [======================>.......] - ETA: 0s - loss: 0.2497 - accuracy: 0.9012\n",
      "Epoch 162: saving model to model/keypoint_classifier\\keypoint_classifier.hdf5\n",
      "18/18 [==============================] - 0s 11ms/step - loss: 0.2499 - accuracy: 0.9021 - val_loss: 0.1003 - val_accuracy: 0.9752\n",
      "Epoch 163/1000\n",
      "14/18 [======================>.......] - ETA: 0s - loss: 0.2733 - accuracy: 0.8956\n",
      "Epoch 163: saving model to model/keypoint_classifier\\keypoint_classifier.hdf5\n",
      "18/18 [==============================] - 0s 9ms/step - loss: 0.2593 - accuracy: 0.9017 - val_loss: 0.1016 - val_accuracy: 0.9739\n",
      "Epoch 164/1000\n",
      "15/18 [========================>.....] - ETA: 0s - loss: 0.2534 - accuracy: 0.9099\n",
      "Epoch 164: saving model to model/keypoint_classifier\\keypoint_classifier.hdf5\n",
      "18/18 [==============================] - 0s 10ms/step - loss: 0.2482 - accuracy: 0.9108 - val_loss: 0.0990 - val_accuracy: 0.9752\n",
      "Epoch 165/1000\n",
      "13/18 [====================>.........] - ETA: 0s - loss: 0.2379 - accuracy: 0.9159\n",
      "Epoch 165: saving model to model/keypoint_classifier\\keypoint_classifier.hdf5\n",
      "18/18 [==============================] - 0s 17ms/step - loss: 0.2353 - accuracy: 0.9134 - val_loss: 0.0999 - val_accuracy: 0.9739\n",
      "Epoch 166/1000\n",
      "13/18 [====================>.........] - ETA: 0s - loss: 0.2493 - accuracy: 0.9050\n",
      "Epoch 166: saving model to model/keypoint_classifier\\keypoint_classifier.hdf5\n",
      "18/18 [==============================] - 0s 14ms/step - loss: 0.2504 - accuracy: 0.9017 - val_loss: 0.0952 - val_accuracy: 0.9765\n",
      "Epoch 167/1000\n",
      "14/18 [======================>.......] - ETA: 0s - loss: 0.2403 - accuracy: 0.9057\n",
      "Epoch 167: saving model to model/keypoint_classifier\\keypoint_classifier.hdf5\n",
      "18/18 [==============================] - 0s 12ms/step - loss: 0.2397 - accuracy: 0.9064 - val_loss: 0.0931 - val_accuracy: 0.9791\n",
      "Epoch 168/1000\n",
      "12/18 [===================>..........] - ETA: 0s - loss: 0.2510 - accuracy: 0.9049\n",
      "Epoch 168: saving model to model/keypoint_classifier\\keypoint_classifier.hdf5\n",
      "18/18 [==============================] - 0s 13ms/step - loss: 0.2374 - accuracy: 0.9121 - val_loss: 0.0990 - val_accuracy: 0.9765\n",
      "Epoch 169/1000\n",
      "15/18 [========================>.....] - ETA: 0s - loss: 0.2502 - accuracy: 0.9099\n",
      "Epoch 169: saving model to model/keypoint_classifier\\keypoint_classifier.hdf5\n",
      "18/18 [==============================] - 0s 9ms/step - loss: 0.2478 - accuracy: 0.9069 - val_loss: 0.1010 - val_accuracy: 0.9752\n",
      "Epoch 170/1000\n",
      "14/18 [======================>.......] - ETA: 0s - loss: 0.2618 - accuracy: 0.9090\n",
      "Epoch 170: saving model to model/keypoint_classifier\\keypoint_classifier.hdf5\n",
      "18/18 [==============================] - 0s 11ms/step - loss: 0.2625 - accuracy: 0.9064 - val_loss: 0.1007 - val_accuracy: 0.9765\n",
      "Epoch 171/1000\n",
      "12/18 [===================>..........] - ETA: 0s - loss: 0.2420 - accuracy: 0.9043\n",
      "Epoch 171: saving model to model/keypoint_classifier\\keypoint_classifier.hdf5\n",
      "18/18 [==============================] - 0s 12ms/step - loss: 0.2347 - accuracy: 0.9086 - val_loss: 0.1011 - val_accuracy: 0.9765\n",
      "Epoch 172/1000\n",
      "13/18 [====================>.........] - ETA: 0s - loss: 0.2350 - accuracy: 0.9135\n",
      "Epoch 172: saving model to model/keypoint_classifier\\keypoint_classifier.hdf5\n",
      "18/18 [==============================] - 0s 10ms/step - loss: 0.2434 - accuracy: 0.9069 - val_loss: 0.1002 - val_accuracy: 0.9765\n",
      "Epoch 173/1000\n",
      "14/18 [======================>.......] - ETA: 0s - loss: 0.2391 - accuracy: 0.9152\n",
      "Epoch 173: saving model to model/keypoint_classifier\\keypoint_classifier.hdf5\n",
      "18/18 [==============================] - 0s 11ms/step - loss: 0.2349 - accuracy: 0.9147 - val_loss: 0.0962 - val_accuracy: 0.9791\n",
      "Epoch 174/1000\n",
      "13/18 [====================>.........] - ETA: 0s - loss: 0.2170 - accuracy: 0.9297\n",
      "Epoch 174: saving model to model/keypoint_classifier\\keypoint_classifier.hdf5\n",
      "18/18 [==============================] - 0s 10ms/step - loss: 0.2267 - accuracy: 0.9221 - val_loss: 0.0965 - val_accuracy: 0.9765\n",
      "Epoch 175/1000\n",
      "16/18 [=========================>....] - ETA: 0s - loss: 0.2509 - accuracy: 0.9062\n",
      "Epoch 175: saving model to model/keypoint_classifier\\keypoint_classifier.hdf5\n",
      "18/18 [==============================] - 0s 14ms/step - loss: 0.2625 - accuracy: 0.9025 - val_loss: 0.0956 - val_accuracy: 0.9765\n",
      "Epoch 176/1000\n",
      "15/18 [========================>.....] - ETA: 0s - loss: 0.2534 - accuracy: 0.9089\n",
      "Epoch 176: saving model to model/keypoint_classifier\\keypoint_classifier.hdf5\n",
      "18/18 [==============================] - 0s 10ms/step - loss: 0.2562 - accuracy: 0.9051 - val_loss: 0.0967 - val_accuracy: 0.9765\n",
      "Epoch 177/1000\n",
      "13/18 [====================>.........] - ETA: 0s - loss: 0.2332 - accuracy: 0.9141\n",
      "Epoch 177: saving model to model/keypoint_classifier\\keypoint_classifier.hdf5\n",
      "18/18 [==============================] - 0s 11ms/step - loss: 0.2326 - accuracy: 0.9138 - val_loss: 0.0964 - val_accuracy: 0.9765\n",
      "Epoch 178/1000\n",
      "13/18 [====================>.........] - ETA: 0s - loss: 0.2525 - accuracy: 0.9050\n",
      "Epoch 178: saving model to model/keypoint_classifier\\keypoint_classifier.hdf5\n",
      "18/18 [==============================] - 0s 10ms/step - loss: 0.2451 - accuracy: 0.9086 - val_loss: 0.0969 - val_accuracy: 0.9765\n",
      "Epoch 179/1000\n",
      "13/18 [====================>.........] - ETA: 0s - loss: 0.2544 - accuracy: 0.9111\n",
      "Epoch 179: saving model to model/keypoint_classifier\\keypoint_classifier.hdf5\n",
      "18/18 [==============================] - 0s 11ms/step - loss: 0.2568 - accuracy: 0.9073 - val_loss: 0.0953 - val_accuracy: 0.9765\n",
      "Epoch 180/1000\n",
      "14/18 [======================>.......] - ETA: 0s - loss: 0.2574 - accuracy: 0.9085\n",
      "Epoch 180: saving model to model/keypoint_classifier\\keypoint_classifier.hdf5\n",
      "18/18 [==============================] - 0s 10ms/step - loss: 0.2508 - accuracy: 0.9130 - val_loss: 0.0972 - val_accuracy: 0.9765\n",
      "Epoch 181/1000\n",
      "14/18 [======================>.......] - ETA: 0s - loss: 0.2523 - accuracy: 0.9035\n",
      "Epoch 181: saving model to model/keypoint_classifier\\keypoint_classifier.hdf5\n",
      "18/18 [==============================] - 0s 11ms/step - loss: 0.2587 - accuracy: 0.9003 - val_loss: 0.1018 - val_accuracy: 0.9752\n",
      "Epoch 182/1000\n",
      "15/18 [========================>.....] - ETA: 0s - loss: 0.2553 - accuracy: 0.8984\n",
      "Epoch 182: saving model to model/keypoint_classifier\\keypoint_classifier.hdf5\n",
      "18/18 [==============================] - 0s 15ms/step - loss: 0.2500 - accuracy: 0.9003 - val_loss: 0.1006 - val_accuracy: 0.9791\n",
      "Epoch 183/1000\n",
      "15/18 [========================>.....] - ETA: 0s - loss: 0.2400 - accuracy: 0.9130\n",
      "Epoch 183: saving model to model/keypoint_classifier\\keypoint_classifier.hdf5\n",
      "18/18 [==============================] - 0s 11ms/step - loss: 0.2391 - accuracy: 0.9121 - val_loss: 0.0983 - val_accuracy: 0.9791\n",
      "Epoch 184/1000\n",
      "14/18 [======================>.......] - ETA: 0s - loss: 0.2369 - accuracy: 0.9107\n",
      "Epoch 184: saving model to model/keypoint_classifier\\keypoint_classifier.hdf5\n",
      "18/18 [==============================] - 0s 11ms/step - loss: 0.2294 - accuracy: 0.9143 - val_loss: 0.1000 - val_accuracy: 0.9765\n",
      "Epoch 185/1000\n",
      "14/18 [======================>.......] - ETA: 0s - loss: 0.2374 - accuracy: 0.9113\n",
      "Epoch 185: saving model to model/keypoint_classifier\\keypoint_classifier.hdf5\n",
      "18/18 [==============================] - 0s 12ms/step - loss: 0.2346 - accuracy: 0.9130 - val_loss: 0.0960 - val_accuracy: 0.9765\n",
      "Epoch 186/1000\n",
      "13/18 [====================>.........] - ETA: 0s - loss: 0.2368 - accuracy: 0.9123\n",
      "Epoch 186: saving model to model/keypoint_classifier\\keypoint_classifier.hdf5\n",
      "18/18 [==============================] - 0s 12ms/step - loss: 0.2374 - accuracy: 0.9138 - val_loss: 0.0951 - val_accuracy: 0.9765\n",
      "Epoch 187/1000\n",
      "14/18 [======================>.......] - ETA: 0s - loss: 0.2287 - accuracy: 0.9208\n",
      "Epoch 187: saving model to model/keypoint_classifier\\keypoint_classifier.hdf5\n",
      "18/18 [==============================] - 0s 11ms/step - loss: 0.2268 - accuracy: 0.9186 - val_loss: 0.0941 - val_accuracy: 0.9765\n",
      "Epoch 187: early stopping\n"
     ]
    },
    {
     "data": {
      "text/plain": [
       "<keras.src.callbacks.History at 0x26e0be29ed0>"
      ]
     },
     "execution_count": 11,
     "metadata": {},
     "output_type": "execute_result"
    }
   ],
   "source": [
    "model.fit(\n",
    "    X_train,\n",
    "    y_train,\n",
    "    epochs=1000,\n",
    "    batch_size=128,\n",
    "    validation_data=(X_test, y_test),\n",
    "    callbacks=[cp_callback, es_callback]\n",
    ")"
   ]
  },
  {
   "cell_type": "code",
   "execution_count": 12,
   "metadata": {
    "colab": {
     "base_uri": "https://localhost:8080/"
    },
    "id": "pxvb2Y299hE3",
    "outputId": "59eb3185-2e37-4b9e-bc9d-ab1b8ac29b7f"
   },
   "outputs": [
    {
     "name": "stdout",
     "output_type": "stream",
     "text": [
      "6/6 [==============================] - 0s 4ms/step - loss: 0.0941 - accuracy: 0.9765\n"
     ]
    }
   ],
   "source": [
    "# Model evaluation\n",
    "val_loss, val_acc = model.evaluate(X_test, y_test, batch_size=128)"
   ]
  },
  {
   "cell_type": "code",
   "execution_count": 13,
   "metadata": {
    "id": "RBkmDeUW9hE4"
   },
   "outputs": [],
   "source": [
    "# Loading the saved model\n",
    "model = tf.keras.models.load_model(model_save_path)"
   ]
  },
  {
   "cell_type": "code",
   "execution_count": 14,
   "metadata": {
    "colab": {
     "base_uri": "https://localhost:8080/"
    },
    "id": "tFz9Tb0I9hE4",
    "outputId": "1c3b3528-54ae-4ee2-ab04-77429211cbef"
   },
   "outputs": [
    {
     "name": "stdout",
     "output_type": "stream",
     "text": [
      "1/1 [==============================] - 0s 161ms/step\n",
      "[1.0660567e-08 1.0000000e+00 5.3187621e-10 5.1365179e-15 1.3017132e-19\n",
      " 4.4058762e-18 7.4565279e-16 6.4251767e-18 1.9732449e-16 2.3733570e-19]\n",
      "1\n"
     ]
    }
   ],
   "source": [
    "# Inference test\n",
    "predict_result = model.predict(np.array([X_test[0]]))\n",
    "print(np.squeeze(predict_result))\n",
    "print(np.argmax(np.squeeze(predict_result)))"
   ]
  },
  {
   "cell_type": "markdown",
   "metadata": {
    "id": "S3U4yNWx9hE4"
   },
   "source": [
    "# Confusion matrix"
   ]
  },
  {
   "cell_type": "code",
   "execution_count": 15,
   "metadata": {
    "colab": {
     "base_uri": "https://localhost:8080/",
     "height": 582
    },
    "id": "AP1V6SCk9hE5",
    "outputId": "08e41a80-7a4a-4619-8125-ecc371368d19"
   },
   "outputs": [
    {
     "name": "stdout",
     "output_type": "stream",
     "text": [
      "24/24 [==============================] - 0s 2ms/step\n"
     ]
    },
    {
     "data": {
      "image/png": "[encoded data removed]",
      "text/plain": [
       "<Figure size 700x600 with 2 Axes>"
      ]
     },
     "metadata": {},
     "output_type": "display_data"
    },
    {
     "name": "stdout",
     "output_type": "stream",
     "text": [
      "Classification Report\n",
      "              precision    recall  f1-score   support\n",
      "\n",
      "           0       1.00      0.99      0.99       146\n",
      "           1       0.99      1.00      1.00       285\n",
      "           2       0.91      1.00      0.96       172\n",
      "           3       1.00      0.90      0.95       164\n",
      "\n",
      "    accuracy                           0.98       767\n",
      "   macro avg       0.98      0.97      0.97       767\n",
      "weighted avg       0.98      0.98      0.98       767\n",
      "\n"
     ]
    }
   ],
   "source": [
    "import pandas as pd\n",
    "import seaborn as sns\n",
    "import matplotlib.pyplot as plt\n",
    "from sklearn.metrics import confusion_matrix, classification_report\n",
    "\n",
    "def print_confusion_matrix(y_true, y_pred, report=True):\n",
    "    labels = sorted(list(set(y_true)))\n",
    "    cmx_data = confusion_matrix(y_true, y_pred, labels=labels)\n",
    "    \n",
    "    df_cmx = pd.DataFrame(cmx_data, index=labels, columns=labels)\n",
    " \n",
    "    fig, ax = plt.subplots(figsize=(7, 6))\n",
    "    sns.heatmap(df_cmx, annot=True, fmt='g' ,square=False)\n",
    "    ax.set_ylim(len(set(y_true)), 0)\n",
    "    plt.show()\n",
    "    \n",
    "    if report:\n",
    "        print('Classification Report')\n",
    "        print(classification_report(y_test, y_pred))\n",
    "\n",
    "Y_pred = model.predict(X_test)\n",
    "y_pred = np.argmax(Y_pred, axis=1)\n",
    "\n",
    "print_confusion_matrix(y_test, y_pred)"
   ]
  },
  {
   "cell_type": "markdown",
   "metadata": {
    "id": "FNP6aqzc9hE5"
   },
   "source": [
    "# Convert to model for Tensorflow-Lite"
   ]
  },
  {
   "cell_type": "code",
   "execution_count": 16,
   "metadata": {
    "id": "ODjnYyld9hE6"
   },
   "outputs": [
    {
     "name": "stderr",
     "output_type": "stream",
     "text": [
      "C:\\Users\\Hamza\\AppData\\Local\\Programs\\Python\\Python311\\Lib\\site-packages\\keras\\src\\engine\\training.py:3079: UserWarning: You are saving your model as an HDF5 file via `model.save()`. This file format is considered legacy. We recommend using instead the native Keras format, e.g. `model.save('my_model.keras')`.\n",
      "  saving_api.save_model(\n"
     ]
    }
   ],
   "source": [
    "# Save as a model dedicated to inference\n",
    "model.save(model_save_path, include_optimizer=False)"
   ]
  },
  {
   "cell_type": "code",
   "execution_count": 17,
   "metadata": {
    "colab": {
     "base_uri": "https://localhost:8080/"
    },
    "id": "zRfuK8Y59hE6",
    "outputId": "a4ca585c-b5d5-4244-8291-8674063209bb"
   },
   "outputs": [
    {
     "name": "stdout",
     "output_type": "stream",
     "text": [
      "INFO:tensorflow:Assets written to: C:\\Users\\Hamza\\AppData\\Local\\Temp\\tmp_s0c_pha\\assets\n"
     ]
    },
    {
     "name": "stderr",
     "output_type": "stream",
     "text": [
      "INFO:tensorflow:Assets written to: C:\\Users\\Hamza\\AppData\\Local\\Temp\\tmp_s0c_pha\\assets\n"
     ]
    },
    {
     "data": {
      "text/plain": [
       "6808"
      ]
     },
     "execution_count": 17,
     "metadata": {},
     "output_type": "execute_result"
    }
   ],
   "source": [
    "# Transform model (quantization)\n",
    "\n",
    "converter = tf.lite.TFLiteConverter.from_keras_model(model)\n",
    "converter.optimizations = [tf.lite.Optimize.DEFAULT]\n",
    "tflite_quantized_model = converter.convert()\n",
    "\n",
    "open(tflite_save_path, 'wb').write(tflite_quantized_model)"
   ]
  },
  {
   "cell_type": "markdown",
   "metadata": {
    "id": "CHBPBXdx9hE6"
   },
   "source": [
    "# Inference test"
   ]
  },
  {
   "cell_type": "code",
   "execution_count": 18,
   "metadata": {
    "id": "mGAzLocO9hE7"
   },
   "outputs": [],
   "source": [
    "interpreter = tf.lite.Interpreter(model_path=tflite_save_path)\n",
    "interpreter.allocate_tensors()"
   ]
  },
  {
   "cell_type": "code",
   "execution_count": 19,
   "metadata": {
    "id": "oQuDK8YS9hE7"
   },
   "outputs": [],
   "source": [
    "# Get I / O tensor\n",
    "input_details = interpreter.get_input_details()\n",
    "output_details = interpreter.get_output_details()"
   ]
  },
  {
   "cell_type": "code",
   "execution_count": 20,
   "metadata": {
    "id": "2_ixAf_l9hE7"
   },
   "outputs": [],
   "source": [
    "interpreter.set_tensor(input_details[0]['index'], np.array([X_test[0]]))"
   ]
  },
  {
   "cell_type": "code",
   "execution_count": 21,
   "metadata": {
    "colab": {
     "base_uri": "https://localhost:8080/"
    },
    "id": "s4FoAnuc9hE7",
    "outputId": "91f18257-8d8b-4ef3-c558-e9b5f94fabbf",
    "scrolled": true
   },
   "outputs": [
    {
     "name": "stdout",
     "output_type": "stream",
     "text": [
      "CPU times: total: 0 ns\n",
      "Wall time: 0 ns\n"
     ]
    }
   ],
   "source": [
    "%%time\n",
    "# Inference implementation\n",
    "interpreter.invoke()\n",
    "tflite_results = interpreter.get_tensor(output_details[0]['index'])"
   ]
  },
  {
   "cell_type": "code",
   "execution_count": 22,
   "metadata": {
    "colab": {
     "base_uri": "https://localhost:8080/"
    },
    "id": "vONjp19J9hE8",
    "outputId": "77205e24-fd00-42c4-f7b6-e06e527c2cba"
   },
   "outputs": [
    {
     "name": "stdout",
     "output_type": "stream",
     "text": [
      "[1.0660587e-08 1.0000000e+00 5.3187710e-10 5.1365378e-15 1.3017230e-19\n",
      " 4.4058762e-18 7.4565560e-16 6.4252011e-18 1.9732523e-16 2.3733567e-19]\n",
      "1\n"
     ]
    }
   ],
   "source": [
    "print(np.squeeze(tflite_results))\n",
    "print(np.argmax(np.squeeze(tflite_results)))"
   ]
  }
 ],
 "metadata": {
  "accelerator": "GPU",
  "colab": {
   "collapsed_sections": [],
   "name": "keypoint_classification_EN.ipynb",
   "provenance": [],
   "toc_visible": true
  },
  "kernelspec": {
   "display_name": "Python 3 (ipykernel)",
   "language": "python",
   "name": "python3"
  },
  "language_info": {
   "codemirror_mode": {
    "name": "ipython",
    "version": 3
   },
   "file_extension": ".py",
   "mimetype": "text/x-python",
   "name": "python",
   "nbconvert_exporter": "python",
   "pygments_lexer": "ipython3",
   "version": "3.11.7"
  }
 },
 "nbformat": 4,
 "nbformat_minor": 4
}
